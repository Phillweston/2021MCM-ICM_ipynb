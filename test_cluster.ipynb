{
 "cells": [
  {
   "cell_type": "code",
   "execution_count": 2,
   "metadata": {},
   "outputs": [
    {
     "name": "stdout",
     "output_type": "stream",
     "text": [
      "[2 2 1 1 0 1 1 1 0 1 2 1 2 1 1 2 2 0 2 2 2 1 1 0 1 0 1 1 1 1 0 0 0 0 0 2 1\n",
      " 0 2 2 2 0 0 0 1 0 0 0 1 2 1 1 2 2 2 1 2 0 0 2 1 2 0 0 2 1 1 2 0 1 0 0 0 2\n",
      " 2 0 0 0 2 1 2 2 2 0 2 1 0 1 1 1 1 1 0 0 0 2 0 1 2 1]\n",
      "[[0.61682412 0.19268399]\n",
      " [0.1842712  0.70189786]\n",
      " [0.69847186 0.67536924]]\n",
      "5.911243134262278\n"
     ]
    },
    {
     "data": {
      "image/png": "[encoded data removed]",
      "text/plain": [
       "<Figure size 432x288 with 1 Axes>"
      ]
     },
     "metadata": {
      "needs_background": "light"
     },
     "output_type": "display_data"
    }
   ],
   "source": [
    "from sklearn.cluster import KMeans\n",
    "from sklearn.externals import joblib\n",
    "from sklearn import cluster\n",
    "import numpy as np\n",
    "import matplotlib.pyplot as plt\n",
    "data = np.random.rand(100,2)#生成100*2的随机矩阵\n",
    "#这里表示生成100个随机点，每个点有两个坐标（横坐标和纵坐标）\n",
    "estimator=KMeans(n_clusters=3)#将形成的数据的聚类分为3类\n",
    "res=estimator.fit_predict(data)#fit_predict表示拟合+预测，也可以分开写\n",
    "label_pred=estimator.labels_#预测类别标签结果\n",
    "centroids=estimator.cluster_centers_#各个类别的聚类中心值\n",
    "inertia=estimator.inertia_#聚类中心均值向量的总和\n",
    "print(label_pred)\n",
    "print(centroids)\n",
    "print(inertia)\n",
    "for i in range(len(data)):\n",
    "    if int(label_pred[i])==0:\n",
    "        plt.scatter(data[i][0],data[i][1],color='red')\n",
    "    if int(label_pred[i])==1:\n",
    "        plt.scatter(data[i][0],data[i][1],color='black')\n",
    "    if int(label_pred[i])==2:\n",
    "        plt.scatter(data[i][0],data[i][1],color='blue')\n",
    "plt.show()"
   ]
  },
  {
   "cell_type": "code",
   "execution_count": null,
   "metadata": {},
   "outputs": [],
   "source": []
  }
 ],
 "metadata": {
  "kernelspec": {
   "display_name": "Python 3",
   "language": "python",
   "name": "python3"
  },
  "language_info": {
   "codemirror_mode": {
    "name": "ipython",
    "version": 3
   },
   "file_extension": ".py",
   "mimetype": "text/x-python",
   "name": "python",
   "nbconvert_exporter": "python",
   "pygments_lexer": "ipython3",
   "version": "3.7.6"
  }
 },
 "nbformat": 4,
 "nbformat_minor": 1
}