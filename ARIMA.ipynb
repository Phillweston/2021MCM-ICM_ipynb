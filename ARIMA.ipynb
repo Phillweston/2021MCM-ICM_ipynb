{
 "cells": [
  {
   "cell_type": "code",
   "execution_count": 27,
   "metadata": {
    "collapsed": true
   },
   "outputs": [],
   "source": [
    "import sys\n",
    "import prettytable as pt\n",
    "import pandas as pd\n",
    "import numpy as np\n",
    "import matplotlib.pyplot as plt\n",
    "import statsmodels.api as sm\n",
    "from statsmodels.graphics.tsaplots import acf, pacf, plot_acf, plot_pacf\n",
    "from statsmodels.tsa.arima_model import ARMA"
   ]
  },
  {
   "cell_type": "code",
   "execution_count": 28,
   "outputs": [
    {
     "data": {
      "text/plain": "<Figure size 864x576 with 1 Axes>",
      "image/png": "[encoded data removed]"
     },
     "metadata": {
      "needs_background": "light"
     },
     "output_type": "display_data"
    }
   ],
   "source": [
    "time_series = pd.Series([151.0, 188.46, 199.38, 219.75, 241.55, 262.58, 328.22, 396.26, 442.04, 517.77, 626.52, 717.08, 824.38, 913.38, 1088.39, 1325.83, 1700.92, 2109.38, 2499.77, 2856.47, 3114.02, 3229.29, 3545.39, 3880.53, 4212.82, 4757.45, 5633.24, 6590.19, 7617.47, 9333.4, 11328.92, 12961.1, 15967.61])\n",
    "time_series.index = pd.Index(sm.tsa.datetools.dates_from_range('1985', '2017'))\n",
    "time_series.plot(figsize=(12, 8))\n",
    "plt.show()"
   ],
   "metadata": {
    "collapsed": false,
    "pycharm": {
     "name": "#%%\n"
    }
   }
  },
  {
   "cell_type": "code",
   "execution_count": 29,
   "outputs": [
    {
     "ename": "ImportError",
     "evalue": "cannot import name 'rolling_median' from 'pandas' (C:\\ProgramData\\Anaconda3\\lib\\site-packages\\pandas\\__init__.py)",
     "output_type": "error",
     "traceback": [
      "\u001B[1;31m---------------------------------------------------------------------------\u001B[0m",
      "\u001B[1;31mImportError\u001B[0m                               Traceback (most recent call last)",
      "\u001B[1;32m<ipython-input-29-90afb9931d40>\u001B[0m in \u001B[0;36m<module>\u001B[1;34m\u001B[0m\n\u001B[0;32m      1\u001B[0m \u001B[1;31m# Outlier values are generally moved by the median method\u001B[0m\u001B[1;33m\u001B[0m\u001B[1;33m\u001B[0m\u001B[1;33m\u001B[0m\u001B[0m\n\u001B[1;32m----> 2\u001B[1;33m \u001B[1;32mfrom\u001B[0m \u001B[0mpandas\u001B[0m \u001B[1;32mimport\u001B[0m \u001B[0mrolling_median\u001B[0m\u001B[1;33m\u001B[0m\u001B[1;33m\u001B[0m\u001B[0m\n\u001B[0m\u001B[0;32m      3\u001B[0m \u001B[1;31m# The threshold at which a point is determined to be an exception\u001B[0m\u001B[1;33m\u001B[0m\u001B[1;33m\u001B[0m\u001B[1;33m\u001B[0m\u001B[0m\n\u001B[0;32m      4\u001B[0m \u001B[0mthreshold\u001B[0m \u001B[1;33m=\u001B[0m \u001B[1;36m3\u001B[0m\u001B[1;33m\u001B[0m\u001B[1;33m\u001B[0m\u001B[0m\n\u001B[0;32m      5\u001B[0m \u001B[1;31m# Parameters from data read\u001B[0m\u001B[1;33m\u001B[0m\u001B[1;33m\u001B[0m\u001B[1;33m\u001B[0m\u001B[0m\n",
      "\u001B[1;31mImportError\u001B[0m: cannot import name 'rolling_median' from 'pandas' (C:\\ProgramData\\Anaconda3\\lib\\site-packages\\pandas\\__init__.py)"
     ]
    }
   ],
   "source": [
    "# Outlier values are generally moved by the median method\n",
    "from pandas import rolling_median\n",
    "# The threshold at which a point is determined to be an exception\n",
    "threshold = 3\n",
    "# Parameters from data read\n",
    "df = pd.DataFrame(data, index=labels)\n",
    "df['pandas'] = rolling_median(df['u'], window=3, center=True).fillna(method='bfill').fillna(method='ffill')\n",
    "difference = np.abs(df['u'] - df['pandas'])\n",
    "outlier_idx = difference > threshold"
   ],
   "metadata": {
    "collapsed": false,
    "pycharm": {
     "name": "#%%\n"
    }
   }
  },
  {
   "cell_type": "code",
   "execution_count": null,
   "outputs": [],
   "source": [
    "# ADF Inspection\n",
    "t = sm.tsa.stattools.adfuller(time_series)\n",
    "output = pd.DataFrame(index=['Test Statistic Value', \"p-value\", \"Lags Used\", \"Number of Observations Used\",\"Critical Value(1%)\",\"Critical Value(5%)\",\"Critical Value(10%)\"],columns=['value'])\n",
    "output['value']['Test Statistic Value'] = t[0]\n",
    "output['value']['p-value'] = t[1]\n",
    "output['value']['Lags Used'] = t[2]\n",
    "output['value']['Number of Observations Used'] = t[3]\n",
    "output['value']['Critical Value(1%)'] = t[4]['1%']\n",
    "output['value']['Critical Value(5%)'] = t[4]['5%']\n",
    "output['value']['Critical Value(10%)'] = t[4]['10%']\n",
    "print(output)"
   ],
   "metadata": {
    "collapsed": false,
    "pycharm": {
     "name": "#%%\n"
    }
   }
  },
  {
   "cell_type": "code",
   "execution_count": null,
   "outputs": [],
   "source": [
    "# Uneven data processing\n",
    "# Logarithmic processing\n",
    "time_series_log = np.log(time_series)\n",
    "time_series_log.plot(figsize=(8, 6))\n",
    "v0 = time_series_log[0]\n",
    "print(np.exp(time_series_log))\n",
    "plt.show()\n",
    "# First-order difference processing\n",
    "time_series = time_series_log.diff(1)\n",
    "time_series = time_series.dropna(how=any)\n",
    "time_series.plot(figsize=(8, 6))\n",
    "plt.show()"
   ],
   "metadata": {
    "collapsed": false,
    "pycharm": {
     "name": "#%%\n"
    }
   }
  },
  {
   "cell_type": "code",
   "execution_count": null,
   "outputs": [],
   "source": [
    "# Parameters confirm\n",
    "# Auto confirm pdq parameter by aic and bic statistics\n",
    "\n",
    "# tb = pt.PrettyTable( [\"City name\", \"Area\", \"Population\", \"Annual Rainfall\"])\n",
    "tb = pt.PrettyTable()\n",
    "tb.field_names = [\"自相关系数ACF\", \"偏相关系数PACF\", \"模型选择\"]\n",
    "tb.add_row([\"拖尾\",\"p阶截尾\", \"AR(p)\"])\n",
    "tb.add_row([\"q阶截尾\",\"拖尾\", \"MA(q)\"])\n",
    "tb.add_row([\"p阶拖尾\", \"q阶拖尾\", \"ARMA(p, q)\"])\n",
    "print(tb)\n",
    "\n",
    "plot_acf(time_series)\n",
    "plot_pacf(time_series)\n",
    "plt.show()\n",
    "# Minimize the optimal parameters by bic\n",
    "def proper_model(data_ts, maxLag):\n",
    "    init_bic = sys.maxsize\n",
    "    init_p = 0\n",
    "    init_q = 0\n",
    "    for p in np.arange(maxLag):\n",
    "        for q in np.arange(maxLag):\n",
    "            model = ARMA(data_ts, order=(p, q))\n",
    "            try:\n",
    "                results_ARMA = model.fit()\n",
    "            except:\n",
    "                continue\n",
    "            bic = results_ARMA.bic\n",
    "            if bic < init_bic:\n",
    "                init_p = p\n",
    "                init_q = q\n",
    "                init_bic = bic\n",
    "    return init_bic, init_p, init_q"
   ],
   "metadata": {
    "collapsed": false,
    "pycharm": {
     "name": "#%%\n"
    }
   }
  },
  {
   "cell_type": "code",
   "execution_count": null,
   "outputs": [],
   "source": [
    "# Model fit\n",
    "b,p,q = proper_model(time_series, 10)\n",
    "arima_mod = ARMA(time_series, order=(p, 0, q))\n",
    "arma_mod = ARMA(time_series, order=(p, q))\n",
    "result_arma = arma_mod.fit()\n",
    "#$$\n",
    "# Ljung-Box test is a test of randomness, or a statistical test of whether there is a lag in the time series.\n",
    "# Determine (diagnose) whether the residual sequence is a white noise sequence to determine the advantages and disadvantages of the model\n",
    "from statsmodels.stats.diagnostic import acorr_ljungbox\n",
    "p_value = acorr_ljungbox(result_arma.resid.values.squeeze(), lags=5)\n",
    "print(p_value)"
   ],
   "metadata": {
    "collapsed": false,
    "pycharm": {
     "name": "#%%\n"
    }
   }
  },
  {
   "cell_type": "code",
   "execution_count": null,
   "outputs": [],
   "source": [
    "# Model prediction\n",
    "result_arma_pre = result_arma.predict(start='2018', end='2018')\n",
    "result_arima = arima_mod.fit()\n",
    "result_arima_pre = result_arima.predict(start='2018', end='2018')\n",
    "print(result_arma_pre)\n",
    "print(result_arima_pre)"
   ],
   "metadata": {
    "collapsed": false,
    "pycharm": {
     "name": "#%%\n"
    }
   }
  }
 ],
 "metadata": {
  "kernelspec": {
   "name": "pycharm-9fb44882",
   "language": "python",
   "display_name": "PyCharm (Advanced-Lane-Line-Detection)"
  },
  "language_info": {
   "codemirror_mode": {
    "name": "ipython",
    "version": 2
   },
   "file_extension": ".py",
   "mimetype": "text/x-python",
   "name": "python",
   "nbconvert_exporter": "python",
   "pygments_lexer": "ipython2",
   "version": "2.7.6"
  }
 },
 "nbformat": 4,
 "nbformat_minor": 0
}